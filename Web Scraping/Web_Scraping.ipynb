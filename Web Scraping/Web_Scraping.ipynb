{
  "nbformat": 4,
  "nbformat_minor": 0,
  "metadata": {
    "colab": {
      "provenance": []
    },
    "kernelspec": {
      "name": "python3",
      "display_name": "Python 3"
    },
    "language_info": {
      "name": "python"
    }
  },
  "cells": [
    {
      "cell_type": "code",
      "execution_count": 2,
      "metadata": {
        "colab": {
          "base_uri": "https://localhost:8080/"
        },
        "id": "eTZXbwG7RNoe",
        "outputId": "f2b71731-e6eb-4333-d311-c244e7cf4f69"
      },
      "outputs": [
        {
          "output_type": "stream",
          "name": "stdout",
          "text": [
            "Requirement already satisfied: requests in /usr/local/lib/python3.10/dist-packages (2.31.0)\n",
            "Requirement already satisfied: charset-normalizer<4,>=2 in /usr/local/lib/python3.10/dist-packages (from requests) (3.3.2)\n",
            "Requirement already satisfied: idna<4,>=2.5 in /usr/local/lib/python3.10/dist-packages (from requests) (3.7)\n",
            "Requirement already satisfied: urllib3<3,>=1.21.1 in /usr/local/lib/python3.10/dist-packages (from requests) (2.0.7)\n",
            "Requirement already satisfied: certifi>=2017.4.17 in /usr/local/lib/python3.10/dist-packages (from requests) (2024.7.4)\n",
            "Requirement already satisfied: beautifulsoup4 in /usr/local/lib/python3.10/dist-packages (4.12.3)\n",
            "Requirement already satisfied: soupsieve>1.2 in /usr/local/lib/python3.10/dist-packages (from beautifulsoup4) (2.5)\n"
          ]
        }
      ],
      "source": [
        "!pip install requests\n",
        "!pip install beautifulsoup4"
      ]
    },
    {
      "cell_type": "code",
      "source": [
        "import requests\n",
        "from bs4 import BeautifulSoup"
      ],
      "metadata": {
        "id": "_CK2bTa4R0Pp"
      },
      "execution_count": 3,
      "outputs": []
    },
    {
      "cell_type": "code",
      "source": [
        "url = \"https://boston.craigslist.org/search/sof\""
      ],
      "metadata": {
        "id": "kVvo5HF7SC8a"
      },
      "execution_count": 5,
      "outputs": []
    },
    {
      "cell_type": "code",
      "source": [
        "response = requests.get(url)"
      ],
      "metadata": {
        "id": "mC2J_X-DSNXX"
      },
      "execution_count": 6,
      "outputs": []
    },
    {
      "cell_type": "code",
      "source": [
        "response"
      ],
      "metadata": {
        "colab": {
          "base_uri": "https://localhost:8080/"
        },
        "id": "Ry6eADU0SQJZ",
        "outputId": "bcccc85a-9f13-466d-eeda-711aa3fa4e5b"
      },
      "execution_count": 7,
      "outputs": [
        {
          "output_type": "execute_result",
          "data": {
            "text/plain": [
              "<Response [200]>"
            ]
          },
          "metadata": {},
          "execution_count": 7
        }
      ]
    },
    {
      "cell_type": "code",
      "source": [
        "data = response.text"
      ],
      "metadata": {
        "id": "5-_SczhkSSdk"
      },
      "execution_count": 8,
      "outputs": []
    },
    {
      "cell_type": "code",
      "source": [
        "data"
      ],
      "metadata": {
        "colab": {
          "base_uri": "https://localhost:8080/",
          "height": 1000
        },
        "id": "fDNvI5hhU6aq",
        "outputId": "d8e52c93-fc0f-4b93-b54c-6d443b0212a6"
      },
      "execution_count": 30,
      "outputs": [
        {
          "output_type": "execute_result",
          "data": {
            "text/plain": [
              "'<!DOCTYPE html>\\n<html>\\n<head>\\n    \\n\\t<meta charset=\"UTF-8\">\\n\\t<meta http-equiv=\"X-UA-Compatible\" content=\"IE=Edge\">\\n\\t<meta name=\"viewport\" content=\"width=device-width,initial-scale=1\">\\n\\t<meta property=\"og:site_name\" content=\"craigslist\">\\n\\t<meta name=\"twitter:card\" content=\"preview\">\\n\\t<meta property=\"og:title\" content=\"boston software/qa/dba/etc jobs - craigslist\">\\n\\t<meta name=\"description\" content=\"boston software/qa/dba/etc jobs - craigslist\">\\n\\t<meta property=\"og:description\" content=\"boston software/qa/dba/etc jobs - craigslist\">\\n\\t<meta property=\"og:url\" content=\"https://boston.craigslist.org/search/sof\">\\n\\t<title>boston software/qa/dba/etc jobs - craigslist</title>\\n\\t<link rel=\"canonical\" href=\"https://boston.craigslist.org/search/sof\">\\n\\t<link rel=\"alternate\" href=\"https://boston.craigslist.org/search/sof\" hreflang=\"x-default\">\\n\\n\\n\\n    <link rel=\"icon\" href=\"/favicon.ico\" id=\"favicon\" />\\n\\n<script type=\"application/ld+json\" id=\"ld_searchpage_data\" >\\n    {\"breadcrumb\":{\"@context\":\"https://schema.org\",\"@type\":\"BreadcrumbList\",\"itemListElement\":[{\"position\":1,\"name\":\"boston.craigslist.org\",\"@type\":\"ListItem\",\"item\":\"https://boston.craigslist.org\"},{\"item\":\"https://boston.craigslist.org/search/jjj\",\"@type\":\"ListItem\",\"name\":\"jobs\",\"position\":2},{\"position\":3,\"@type\":\"ListItem\",\"item\":\"https://boston.craigslist.org/search/sof\",\"name\":\"software\"}]},\"@context\":\"https://schema.org\",\"description\":\"Software/Qa/Dba/Etc Jobs in Boston\",\"@type\":\"SearchResultsPage\"}\\n</script>\\n\\n\\n\\n    <style>\\n        body {\\n            font-family: sans-serif;\\n        }\\n\\n        #no-js {\\n            position: fixed;\\n            z-index: 100000;\\n            top: 0;\\n            bottom: 0;\\n            left: 0;\\n            right: 0;\\n            overflow:auto;\\n            margin: 0;\\n            background: transparent;\\n        }\\n\\n        #no-js h1 {\\n            margin: 0;\\n            padding: .5em;\\n            color: #00E;\\n            background-color: #cccccc;\\n        }\\n\\n        #no-js  p {\\n            margin: 1em;\\n        }\\n\\n        .no-js header,\\n        .no-js form,\\n        .no-js .tsb,\\n        .unsupported-browser header,\\n        .unsupported-browser form,\\n        .unsupported-browser .tsb {\\n            display: none;\\n        }\\n\\n        #curtain {\\n            display: none;\\n            position: fixed;\\n            z-index: 9000;\\n            top: 0;\\n            bottom: 0;\\n            left: 0;\\n            right: 0;\\n            margin: 0;\\n            padding: 0;\\n            border: 0;\\n            background: transparent;\\n        }\\n\\n        .show-curtain #curtain {\\n            display: block;\\n        }\\n\\n        #curtain .cover,\\n        #curtain .content {\\n            position: absolute;\\n            display: block;\\n            top: 0;\\n            bottom: 0;\\n            left: 0;\\n            right: 0;\\n            margin: 0;\\n            padding: 0;\\n            border: 0;\\n        }\\n\\n        #curtain .cover {\\n            z-index: 1;\\n            background-color: white;\\n        }\\n\\n        .show-curtain #curtain .cover {\\n            opacity: 0.7;\\n        }\\n\\n        .show-curtain.clear #curtain .cover {\\n            opacity: 0;\\n        }\\n\\n        .show-curtain.opaque #curtain .cover {\\n            opacity: 1;\\n        }\\n\\n        #curtain .content {\\n            z-index: 2;\\n            background: transparent;\\n            color: #00E;\\n\\n            display: flex;\\n            flex-direction: column;\\n            justify-content: center;\\n            align-items: center;\\n        }\\n\\n        .unrecoverable #curtain .content,\\n        .unsupported-browser #curtain .content {\\n            display: block;\\n            align-items: start;\\n        }\\n\\n        #curtain h1 {\\n            margin: 0;\\n            padding: .5em;\\n            background-color: #cccccc;\\n        }\\n\\n        #curtain  p {\\n            margin: 1em;\\n            color: black;\\n        }\\n\\n        .pacify #curtain .icom-:after {\\n            content: \"\\\\eb23\";\\n        }\\n\\n        #curtain .text {\\n            display: none;\\n        }\\n\\n        .loading #curtain .text.loading,\\n        .reading #curtain .text.reading,\\n        .writing #curtain .text.writing,\\n        .saving #curtain .text.saving,\\n        .searching #curtain .text.searching,\\n        .unrecoverable #curtain .text.unrecoverable,\\n        .message #curtain .text.message {\\n            display: block;\\n        }\\n\\n        .unrecoverable #curtain .text.unrecoverable {\\n        }\\n\\n        @keyframes rotate {\\n            from {\\n                transform: rotate(0deg);\\n            }\\n            to {\\n                transform: rotate(359deg);\\n            }\\n        }\\n\\n        .pacify #curtain .icom- {\\n            font-size: 3em;\\n            animation: rotate 2s infinite linear;\\n        }\\n    </style>\\n\\n    <style>\\n        body {\\n            margin: 0;\\n            border: 0;\\n            padding: 0;\\n        }\\n\\n        ol.cl-static-search-results, .cl-static-header {\\n            display:none;\\n        }\\n\\n        .no-js ol.cl-static-search-results, .no-js .cl-static-header {\\n            display:block;\\n        }\\n    </style>\\n\\n\\n</head>\\n\\n<body  class=\"no-js search\"  >\\n\\n\\n\\n    <div class=\"cl-content\">\\n        <main>\\n        </main>\\n    </div>\\n\\n    <div id=\"curtain\">\\n        <div class=\"cover\"></div>\\n        <div class=\"content\">\\n            <div class=\"icom-\"></div>\\n            <div class=\"text loading\">loading</div>\\n            <div class=\"text reading\">reading</div>\\n            <div class=\"text writing\">writing</div>\\n            <div class=\"text saving\">saving</div>\\n            <div class=\"text searching\">searching</div>\\n            <div id=\"curtainText\" class=\"text message\"></div>\\n            <div class=\"text unrecoverable\">\\n                 <p><a id=\"cl-unrecoverable-hard-refresh\" href=\"#\" onclick=\"location.reload(true);\">refresh the page.</a></p>\\n             </div>\\n         </div>\\n    </div>\\n\\n\\n\\n    <script>\\n        (function() {\\n            try {\\n                window.onpageshow = function(event) {\\n                    if (event.persisted && cl.upTime()>1000 && /iPhone/.test(navigator.userAgent)) {\\n                        window.location.reload();\\n                    }\\n                };\\n\\n                window.addEventListener(\\'DOMContentLoaded\\', function() {\\n                    document.body.classList.remove(\\'no-js\\');\\n                });\\n                document.body.classList.remove(\\'no-js\\');\\n            } catch(e) {\\n                console.log(e);\\n            }\\n        })();\\n    </script>\\n\\n    \\n     \\n     <script src=\"https://www.craigslist.org/static/www/dde06c7160832563926c05909a2640e57528fead.js\" crossorigin=\"anonymous\"></script>\\n     <script>\\n         window.cl.init(\\n             \\'https://www.craigslist.org/static/www/\\',\\n             \\'\\',\\n             \\'www\\',\\n             \\'search\\',\\n             {\\n\\'areaAbbrev\\': \"bos\",\\n\\'areaCoords\\': [\"42.358299\",\"-71.060303\"],\\n\\'areaId\\': \"4\",\\n\\'areaName\\': \"boston\",\\n\\'defaultLocale\\': \"en_US\",\\n\\'initialCategoryAbbr\\': \"sof\",\\n\\'location\\': {\"lon\":-71.06,\"region\":\"MA\",\"country\":\"US\",\"city\":\"Boston\",\"radius\":1,\"areaId\":4,\"postal\":\"02204\",\"lat\":42.359,\"url\":\"boston.craigslist.org\"},\\n\\'nearbyAreas\\': [{\"name\":\"worcester\",\"host\":\"worcester\"},{\"host\":\"providence\",\"name\":\"rhode island\"},{\"host\":\"southcoast\",\"name\":\"south coast\"},{\"name\":\"cape cod\",\"host\":\"capecod\"},{\"host\":\"newlondon\",\"name\":\"eastern CT\"},{\"host\":\"hartford\",\"name\":\"hartford\"},{\"name\":\"new hampshire\",\"host\":\"nh\"},{\"name\":\"western mass\",\"host\":\"westernmass\"},{\"name\":\"northwest CT\",\"host\":\"nwct\"},{\"host\":\"newhaven\",\"name\":\"new haven\"},{\"name\":\"albany, NY\",\"host\":\"albany\"},{\"name\":\"glens falls\",\"host\":\"glensfalls\"},{\"host\":\"hudsonvalley\",\"name\":\"hudson valley\"},{\"host\":\"longisland\",\"name\":\"long island\"},{\"host\":\"catskills\",\"name\":\"catskills\"},{\"host\":\"vermont\",\"name\":\"vermont\"},{\"name\":\"maine\",\"host\":\"maine\"},{\"host\":\"newjersey\",\"name\":\"north jersey\"},{\"name\":\"new york\",\"host\":\"newyork\"},{\"host\":\"plattsburgh\",\"name\":\"plattsburgh\"},{\"host\":\"oneonta\",\"name\":\"oneonta\"},{\"name\":\"jersey shore\",\"host\":\"jerseyshore\"},{\"name\":\"utica\",\"host\":\"utica\"},{\"name\":\"poconos\",\"host\":\"poconos\"},{\"host\":\"cnj\",\"name\":\"central NJ\"}],\\n\\'seoLinks\\': 0,\\n\\'subareas\\': [{\"id\":1,\"abbr\":\"gbs\",\"name\":\"boston/camb/brook\"},{\"id\":2,\"abbr\":\"nwb\",\"name\":\"northwest/merrimack\"},{\"id\":3,\"abbr\":\"bmw\",\"name\":\"metro west\"},{\"abbr\":\"nos\",\"name\":\"north shore\",\"id\":4},{\"abbr\":\"sob\",\"name\":\"south shore\",\"id\":5}],\\n\\'whereAmI\\': {\"area\":{\"description\":\"boston\",\"lon\":\"-71.060303\",\"country\":\"US\",\"region\":\"MA\",\"abbr\":\"bos\",\"id\":4,\"hostname\":\"boston\",\"subareas\":[{\"id\":1,\"name\":\"boston/camb/brook\",\"lat\":\"42.349948\",\"description\":\"boston/cambridge/brookline\",\"lon\":\"-71.189848\",\"abbr\":\"gbs\"},{\"description\":\"metro west\",\"lon\":\"-71.413760\",\"abbr\":\"bmw\",\"id\":3,\"name\":\"metro west\",\"lat\":\"42.316457\"},{\"lat\":\"42.556255\",\"name\":\"north shore\",\"id\":4,\"abbr\":\"nos\",\"lon\":\"-71.011101\",\"description\":\"north shore\"},{\"abbr\":\"nwb\",\"lon\":\"-71.283832\",\"description\":\"northwest/merrimack\",\"lat\":\"42.632879\",\"name\":\"northwest/merrimack\",\"id\":2},{\"id\":5,\"lat\":\"41.588453\",\"name\":\"south shore\",\"lon\":\"-71.101100\",\"description\":\"south shore\",\"abbr\":\"sob\"}],\"name\":\"boston\",\"lat\":\"42.358299\"},\"nearbyAreas\":[{\"hostname\":\"albany\",\"id\":59,\"lat\":\"42.652500\",\"subareas\":[],\"name\":\"albany, NY\",\"lon\":\"-73.756699\",\"description\":\"albany, NY\",\"region\":\"NY\",\"abbr\":\"alb\",\"country\":\"US\"},{\"description\":\"cape cod / islands\",\"lon\":\"-70.296898\",\"region\":\"MA\",\"abbr\":\"cap\",\"country\":\"US\",\"hostname\":\"capecod\",\"id\":239,\"lat\":\"41.688900\",\"subareas\":[],\"name\":\"cape cod\"},{\"name\":\"catskills\",\"subareas\":[],\"lat\":\"42.000000\",\"id\":451,\"hostname\":\"catskills\",\"country\":\"US\",\"abbr\":\"cat\",\"region\":\"NY\",\"lon\":\"-74.383301\",\"description\":\"catskills\"},{\"lat\":\"41.344101\",\"name\":\"eastern CT\",\"subareas\":[],\"hostname\":\"newlondon\",\"id\":281,\"country\":\"US\",\"abbr\":\"nlo\",\"region\":\"CT\",\"description\":\"eastern CT\",\"lon\":\"-72.103600\"},{\"subareas\":[],\"name\":\"glens falls\",\"lat\":\"43.309502\",\"id\":686,\"hostname\":\"glensfalls\",\"region\":\"NY\",\"abbr\":\"gfl\",\"country\":\"US\",\"description\":\"glens falls, NY\",\"lon\":\"-73.643997\"},{\"subareas\":[],\"name\":\"hartford\",\"lat\":\"41.763599\",\"id\":44,\"hostname\":\"hartford\",\"country\":\"US\",\"abbr\":\"htf\",\"region\":\"CT\",\"lon\":\"-72.685600\",\"description\":\"hartford, CT\"},{\"id\":249,\"hostname\":\"hudsonvalley\",\"subareas\":[],\"name\":\"hudson valley\",\"lat\":\"41.576698\",\"description\":\"hudson valley, NY\",\"lon\":\"-73.803398\",\"region\":\"NY\",\"abbr\":\"hud\",\"country\":\"US\"},{\"lat\":\"40.822102\",\"name\":\"long island\",\"subareas\":[],\"hostname\":\"longisland\",\"id\":250,\"country\":\"US\",\"abbr\":\"isp\",\"region\":\"NY\",\"description\":\"long island, NY\",\"lon\":\"-73.149696\"},{\"region\":\"ME\",\"abbr\":\"mne\",\"country\":\"US\",\"description\":\"maine\",\"lon\":\"-69.334602\",\"subareas\":[],\"name\":\"maine\",\"lat\":\"44.693199\",\"id\":169,\"hostname\":\"maine\"},{\"country\":\"US\",\"region\":\"NH\",\"abbr\":\"nhm\",\"description\":\"new hampshire\",\"lon\":\"-71.564201\",\"lat\":\"43.654099\",\"subareas\":[],\"name\":\"new hampshire\",\"hostname\":\"nh\",\"id\":198},{\"lat\":\"41.308102\",\"name\":\"new haven\",\"subareas\":[],\"hostname\":\"newhaven\",\"id\":168,\"country\":\"US\",\"region\":\"CT\",\"abbr\":\"hvn\",\"description\":\"new haven, CT\",\"lon\":\"-72.928596\"},{\"name\":\"northwest CT\",\"subareas\":[],\"lat\":\"41.914501\",\"id\":354,\"hostname\":\"nwct\",\"country\":\"US\",\"abbr\":\"nct\",\"region\":\"CT\",\"lon\":\"-73.276100\",\"description\":\"northwest CT\"},{\"description\":\"rhode island\",\"lon\":\"-71.409103\",\"country\":\"US\",\"region\":\"RI\",\"abbr\":\"prv\",\"hostname\":\"providence\",\"id\":38,\"lat\":\"41.830200\",\"name\":\"rhode island\",\"subareas\":[]},{\"lon\":\"-71.048599\",\"description\":\"south coast, MA\",\"region\":\"MA\",\"abbr\":\"sma\",\"country\":\"US\",\"id\":378,\"hostname\":\"southcoast\",\"name\":\"south coast\",\"subareas\":[],\"lat\":\"41.638500\"},{\"country\":\"US\",\"region\":\"VT\",\"abbr\":\"brl\",\"description\":\"vermont\",\"lon\":\"-73.193703\",\"subareas\":[],\"name\":\"vermont\",\"lat\":\"44.461201\",\"id\":93,\"hostname\":\"vermont\"},{\"name\":\"western mass\",\"subareas\":[],\"lat\":\"42.349998\",\"id\":173,\"hostname\":\"westernmass\",\"country\":\"US\",\"region\":\"MA\",\"abbr\":\"wma\",\"lon\":\"-73.000000\",\"description\":\"western massachusetts\"},{\"country\":\"US\",\"region\":\"MA\",\"abbr\":\"wor\",\"description\":\"worcester / central MA\",\"lon\":\"-71.802803\",\"subareas\":[],\"name\":\"worcester\",\"lat\":\"42.262501\",\"id\":240,\"hostname\":\"worcester\"}],\"subareaId\":0,\"searchLocation\":0}\\n},\\n             0\\n         );\\n     </script>\\n     \\n\\n    \\n    <iframe id=\"cl-local-storage\" src=\"https://www.craigslist.org/static/www/localStorage-092e9f9e2f09450529e744902aa7cdb3a5cc868d.html\" style=\"display:none;\"></iframe>\\n    \\n\\n\\n    <script>\\n        window.cl.specialCurtainMessages = {\\n            unsupportedBrowser: [\\n                \"We\\'ve detected you are using a browser that is missing critical features.\",\\n                \"Please visit craigslist from a modern browser.\"\\n            ],\\n            unrecoverableError: [\\n                \"There was an error loading the page.\"\\n            ]\\n        };\\n    </script>\\n    <div class=\"cl-static-header\">\\n        <a href=\"/\">craigslist</a>\\n            <h1>Software/Qa/Dba/Etc Jobs in Boston</h1>\\n    </div>\\n\\n    <ol class=\"cl-static-search-results\">\\n        <li class=\"cl-static-hub-links\">\\n            <div>see also</div>\\n        </li>\\n        <li class=\"cl-static-search-result\" title=\"Enroll in a Tech Academy Boot Camp to Secure Your Tech Career\">\\n            <a href=\"https://boston.craigslist.org/gbs/sof/d/boston-enroll-in-tech-academy-boot-camp/7764152421.html\">\\n                <div class=\"title\">Enroll in a Tech Academy Boot Camp to Secure Your Tech Career</div>\\n\\n                <div class=\"details\">\\n                    <div class=\"price\">$0</div>\\n                    <div class=\"location\">\\n                        boston/cambridge/brookline\\n                    </div>\\n                </div>\\n            </a>\\n        </li>\\n        <li class=\"cl-static-search-result\" title=\"Software Development Project Coordinator - Asana Exp., Part-time\">\\n            <a href=\"https://boston.craigslist.org/bmw/sof/d/westborough-software-development/7764147855.html\">\\n                <div class=\"title\">Software Development Project Coordinator - Asana Exp., Part-time</div>\\n\\n                <div class=\"details\">\\n                    <div class=\"price\">$0</div>\\n                    <div class=\"location\">\\n                        Westborough, MA\\n                    </div>\\n                </div>\\n            </a>\\n        </li>\\n        <li class=\"cl-static-search-result\" title=\"Experienced Web Designer\">\\n            <a href=\"https://boston.craigslist.org/nos/sof/d/wakefield-experienced-web-designer/7761903842.html\">\\n                <div class=\"title\">Experienced Web Designer</div>\\n\\n                <div class=\"details\">\\n                    <div class=\"price\">$0</div>\\n                    <div class=\"location\">\\n                        Wakefield\\n                    </div>\\n                </div>\\n            </a>\\n        </li>\\n        <li class=\"cl-static-search-result\" title=\"Director, Software Engineering\">\\n            <a href=\"https://boston.craigslist.org/gbs/sof/d/boston-director-software-engineering/7758109999.html\">\\n                <div class=\"title\">Director, Software Engineering</div>\\n\\n                <div class=\"details\">\\n                    <div class=\"price\">$0</div>\\n                    <div class=\"location\">\\n                        Boston, MA\\n                    </div>\\n                </div>\\n            </a>\\n        </li>\\n    </ol>\\n</body>\\n</html>\\n'"
            ],
            "application/vnd.google.colaboratory.intrinsic+json": {
              "type": "string"
            }
          },
          "metadata": {},
          "execution_count": 30
        }
      ]
    },
    {
      "cell_type": "code",
      "source": [
        "soup = BeautifulSoup(data, 'html.parser')"
      ],
      "metadata": {
        "id": "PRtA4uo6SaqQ"
      },
      "execution_count": 29,
      "outputs": []
    },
    {
      "cell_type": "code",
      "source": [
        "soup"
      ],
      "metadata": {
        "colab": {
          "base_uri": "https://localhost:8080/"
        },
        "id": "zqt69G3SSbFw",
        "outputId": "91bb4a70-2ea7-4cc5-df28-1d6155596793"
      },
      "execution_count": 14,
      "outputs": [
        {
          "output_type": "execute_result",
          "data": {
            "text/plain": [
              "<!DOCTYPE html>\n",
              "\n",
              "<html>\n",
              "<head>\n",
              "<meta charset=\"utf-8\"/>\n",
              "<meta content=\"IE=Edge\" http-equiv=\"X-UA-Compatible\"/>\n",
              "<meta content=\"width=device-width,initial-scale=1\" name=\"viewport\"/>\n",
              "<meta content=\"craigslist\" property=\"og:site_name\"/>\n",
              "<meta content=\"preview\" name=\"twitter:card\"/>\n",
              "<meta content=\"boston software/qa/dba/etc jobs - craigslist\" property=\"og:title\"/>\n",
              "<meta content=\"boston software/qa/dba/etc jobs - craigslist\" name=\"description\"/>\n",
              "<meta content=\"boston software/qa/dba/etc jobs - craigslist\" property=\"og:description\"/>\n",
              "<meta content=\"https://boston.craigslist.org/search/sof\" property=\"og:url\"/>\n",
              "<title>boston software/qa/dba/etc jobs - craigslist</title>\n",
              "<link href=\"https://boston.craigslist.org/search/sof\" rel=\"canonical\"/>\n",
              "<link href=\"https://boston.craigslist.org/search/sof\" hreflang=\"x-default\" rel=\"alternate\"/>\n",
              "<link href=\"/favicon.ico\" id=\"favicon\" rel=\"icon\">\n",
              "<script id=\"ld_searchpage_data\" type=\"application/ld+json\">\n",
              "    {\"breadcrumb\":{\"@context\":\"https://schema.org\",\"@type\":\"BreadcrumbList\",\"itemListElement\":[{\"position\":1,\"name\":\"boston.craigslist.org\",\"@type\":\"ListItem\",\"item\":\"https://boston.craigslist.org\"},{\"item\":\"https://boston.craigslist.org/search/jjj\",\"@type\":\"ListItem\",\"name\":\"jobs\",\"position\":2},{\"position\":3,\"@type\":\"ListItem\",\"item\":\"https://boston.craigslist.org/search/sof\",\"name\":\"software\"}]},\"@context\":\"https://schema.org\",\"description\":\"Software/Qa/Dba/Etc Jobs in Boston\",\"@type\":\"SearchResultsPage\"}\n",
              "</script>\n",
              "<style>\n",
              "        body {\n",
              "            font-family: sans-serif;\n",
              "        }\n",
              "\n",
              "        #no-js {\n",
              "            position: fixed;\n",
              "            z-index: 100000;\n",
              "            top: 0;\n",
              "            bottom: 0;\n",
              "            left: 0;\n",
              "            right: 0;\n",
              "            overflow:auto;\n",
              "            margin: 0;\n",
              "            background: transparent;\n",
              "        }\n",
              "\n",
              "        #no-js h1 {\n",
              "            margin: 0;\n",
              "            padding: .5em;\n",
              "            color: #00E;\n",
              "            background-color: #cccccc;\n",
              "        }\n",
              "\n",
              "        #no-js  p {\n",
              "            margin: 1em;\n",
              "        }\n",
              "\n",
              "        .no-js header,\n",
              "        .no-js form,\n",
              "        .no-js .tsb,\n",
              "        .unsupported-browser header,\n",
              "        .unsupported-browser form,\n",
              "        .unsupported-browser .tsb {\n",
              "            display: none;\n",
              "        }\n",
              "\n",
              "        #curtain {\n",
              "            display: none;\n",
              "            position: fixed;\n",
              "            z-index: 9000;\n",
              "            top: 0;\n",
              "            bottom: 0;\n",
              "            left: 0;\n",
              "            right: 0;\n",
              "            margin: 0;\n",
              "            padding: 0;\n",
              "            border: 0;\n",
              "            background: transparent;\n",
              "        }\n",
              "\n",
              "        .show-curtain #curtain {\n",
              "            display: block;\n",
              "        }\n",
              "\n",
              "        #curtain .cover,\n",
              "        #curtain .content {\n",
              "            position: absolute;\n",
              "            display: block;\n",
              "            top: 0;\n",
              "            bottom: 0;\n",
              "            left: 0;\n",
              "            right: 0;\n",
              "            margin: 0;\n",
              "            padding: 0;\n",
              "            border: 0;\n",
              "        }\n",
              "\n",
              "        #curtain .cover {\n",
              "            z-index: 1;\n",
              "            background-color: white;\n",
              "        }\n",
              "\n",
              "        .show-curtain #curtain .cover {\n",
              "            opacity: 0.7;\n",
              "        }\n",
              "\n",
              "        .show-curtain.clear #curtain .cover {\n",
              "            opacity: 0;\n",
              "        }\n",
              "\n",
              "        .show-curtain.opaque #curtain .cover {\n",
              "            opacity: 1;\n",
              "        }\n",
              "\n",
              "        #curtain .content {\n",
              "            z-index: 2;\n",
              "            background: transparent;\n",
              "            color: #00E;\n",
              "\n",
              "            display: flex;\n",
              "            flex-direction: column;\n",
              "            justify-content: center;\n",
              "            align-items: center;\n",
              "        }\n",
              "\n",
              "        .unrecoverable #curtain .content,\n",
              "        .unsupported-browser #curtain .content {\n",
              "            display: block;\n",
              "            align-items: start;\n",
              "        }\n",
              "\n",
              "        #curtain h1 {\n",
              "            margin: 0;\n",
              "            padding: .5em;\n",
              "            background-color: #cccccc;\n",
              "        }\n",
              "\n",
              "        #curtain  p {\n",
              "            margin: 1em;\n",
              "            color: black;\n",
              "        }\n",
              "\n",
              "        .pacify #curtain .icom-:after {\n",
              "            content: \"\\eb23\";\n",
              "        }\n",
              "\n",
              "        #curtain .text {\n",
              "            display: none;\n",
              "        }\n",
              "\n",
              "        .loading #curtain .text.loading,\n",
              "        .reading #curtain .text.reading,\n",
              "        .writing #curtain .text.writing,\n",
              "        .saving #curtain .text.saving,\n",
              "        .searching #curtain .text.searching,\n",
              "        .unrecoverable #curtain .text.unrecoverable,\n",
              "        .message #curtain .text.message {\n",
              "            display: block;\n",
              "        }\n",
              "\n",
              "        .unrecoverable #curtain .text.unrecoverable {\n",
              "        }\n",
              "\n",
              "        @keyframes rotate {\n",
              "            from {\n",
              "                transform: rotate(0deg);\n",
              "            }\n",
              "            to {\n",
              "                transform: rotate(359deg);\n",
              "            }\n",
              "        }\n",
              "\n",
              "        .pacify #curtain .icom- {\n",
              "            font-size: 3em;\n",
              "            animation: rotate 2s infinite linear;\n",
              "        }\n",
              "    </style>\n",
              "<style>\n",
              "        body {\n",
              "            margin: 0;\n",
              "            border: 0;\n",
              "            padding: 0;\n",
              "        }\n",
              "\n",
              "        ol.cl-static-search-results, .cl-static-header {\n",
              "            display:none;\n",
              "        }\n",
              "\n",
              "        .no-js ol.cl-static-search-results, .no-js .cl-static-header {\n",
              "            display:block;\n",
              "        }\n",
              "    </style>\n",
              "</link></head>\n",
              "<body class=\"no-js search\">\n",
              "<div class=\"cl-content\">\n",
              "<main>\n",
              "</main>\n",
              "</div>\n",
              "<div id=\"curtain\">\n",
              "<div class=\"cover\"></div>\n",
              "<div class=\"content\">\n",
              "<div class=\"icom-\"></div>\n",
              "<div class=\"text loading\">loading</div>\n",
              "<div class=\"text reading\">reading</div>\n",
              "<div class=\"text writing\">writing</div>\n",
              "<div class=\"text saving\">saving</div>\n",
              "<div class=\"text searching\">searching</div>\n",
              "<div class=\"text message\" id=\"curtainText\"></div>\n",
              "<div class=\"text unrecoverable\">\n",
              "<p><a href=\"#\" id=\"cl-unrecoverable-hard-refresh\" onclick=\"location.reload(true);\">refresh the page.</a></p>\n",
              "</div>\n",
              "</div>\n",
              "</div>\n",
              "<script>\n",
              "        (function() {\n",
              "            try {\n",
              "                window.onpageshow = function(event) {\n",
              "                    if (event.persisted && cl.upTime()>1000 && /iPhone/.test(navigator.userAgent)) {\n",
              "                        window.location.reload();\n",
              "                    }\n",
              "                };\n",
              "\n",
              "                window.addEventListener('DOMContentLoaded', function() {\n",
              "                    document.body.classList.remove('no-js');\n",
              "                });\n",
              "                document.body.classList.remove('no-js');\n",
              "            } catch(e) {\n",
              "                console.log(e);\n",
              "            }\n",
              "        })();\n",
              "    </script>\n",
              "<script crossorigin=\"anonymous\" src=\"https://www.craigslist.org/static/www/dde06c7160832563926c05909a2640e57528fead.js\"></script>\n",
              "<script>\n",
              "         window.cl.init(\n",
              "             'https://www.craigslist.org/static/www/',\n",
              "             '',\n",
              "             'www',\n",
              "             'search',\n",
              "             {\n",
              "'areaAbbrev': \"bos\",\n",
              "'areaCoords': [\"42.358299\",\"-71.060303\"],\n",
              "'areaId': \"4\",\n",
              "'areaName': \"boston\",\n",
              "'defaultLocale': \"en_US\",\n",
              "'initialCategoryAbbr': \"sof\",\n",
              "'location': {\"lon\":-71.06,\"region\":\"MA\",\"country\":\"US\",\"city\":\"Boston\",\"radius\":1,\"areaId\":4,\"postal\":\"02204\",\"lat\":42.359,\"url\":\"boston.craigslist.org\"},\n",
              "'nearbyAreas': [{\"name\":\"worcester\",\"host\":\"worcester\"},{\"host\":\"providence\",\"name\":\"rhode island\"},{\"host\":\"southcoast\",\"name\":\"south coast\"},{\"name\":\"cape cod\",\"host\":\"capecod\"},{\"host\":\"newlondon\",\"name\":\"eastern CT\"},{\"host\":\"hartford\",\"name\":\"hartford\"},{\"name\":\"new hampshire\",\"host\":\"nh\"},{\"name\":\"western mass\",\"host\":\"westernmass\"},{\"name\":\"northwest CT\",\"host\":\"nwct\"},{\"host\":\"newhaven\",\"name\":\"new haven\"},{\"name\":\"albany, NY\",\"host\":\"albany\"},{\"name\":\"glens falls\",\"host\":\"glensfalls\"},{\"host\":\"hudsonvalley\",\"name\":\"hudson valley\"},{\"host\":\"longisland\",\"name\":\"long island\"},{\"host\":\"catskills\",\"name\":\"catskills\"},{\"host\":\"vermont\",\"name\":\"vermont\"},{\"name\":\"maine\",\"host\":\"maine\"},{\"host\":\"newjersey\",\"name\":\"north jersey\"},{\"name\":\"new york\",\"host\":\"newyork\"},{\"host\":\"plattsburgh\",\"name\":\"plattsburgh\"},{\"host\":\"oneonta\",\"name\":\"oneonta\"},{\"name\":\"jersey shore\",\"host\":\"jerseyshore\"},{\"name\":\"utica\",\"host\":\"utica\"},{\"name\":\"poconos\",\"host\":\"poconos\"},{\"host\":\"cnj\",\"name\":\"central NJ\"}],\n",
              "'seoLinks': 0,\n",
              "'subareas': [{\"id\":1,\"abbr\":\"gbs\",\"name\":\"boston/camb/brook\"},{\"id\":2,\"abbr\":\"nwb\",\"name\":\"northwest/merrimack\"},{\"id\":3,\"abbr\":\"bmw\",\"name\":\"metro west\"},{\"abbr\":\"nos\",\"name\":\"north shore\",\"id\":4},{\"abbr\":\"sob\",\"name\":\"south shore\",\"id\":5}],\n",
              "'whereAmI': {\"area\":{\"description\":\"boston\",\"lon\":\"-71.060303\",\"country\":\"US\",\"region\":\"MA\",\"abbr\":\"bos\",\"id\":4,\"hostname\":\"boston\",\"subareas\":[{\"id\":1,\"name\":\"boston/camb/brook\",\"lat\":\"42.349948\",\"description\":\"boston/cambridge/brookline\",\"lon\":\"-71.189848\",\"abbr\":\"gbs\"},{\"description\":\"metro west\",\"lon\":\"-71.413760\",\"abbr\":\"bmw\",\"id\":3,\"name\":\"metro west\",\"lat\":\"42.316457\"},{\"lat\":\"42.556255\",\"name\":\"north shore\",\"id\":4,\"abbr\":\"nos\",\"lon\":\"-71.011101\",\"description\":\"north shore\"},{\"abbr\":\"nwb\",\"lon\":\"-71.283832\",\"description\":\"northwest/merrimack\",\"lat\":\"42.632879\",\"name\":\"northwest/merrimack\",\"id\":2},{\"id\":5,\"lat\":\"41.588453\",\"name\":\"south shore\",\"lon\":\"-71.101100\",\"description\":\"south shore\",\"abbr\":\"sob\"}],\"name\":\"boston\",\"lat\":\"42.358299\"},\"nearbyAreas\":[{\"hostname\":\"albany\",\"id\":59,\"lat\":\"42.652500\",\"subareas\":[],\"name\":\"albany, NY\",\"lon\":\"-73.756699\",\"description\":\"albany, NY\",\"region\":\"NY\",\"abbr\":\"alb\",\"country\":\"US\"},{\"description\":\"cape cod / islands\",\"lon\":\"-70.296898\",\"region\":\"MA\",\"abbr\":\"cap\",\"country\":\"US\",\"hostname\":\"capecod\",\"id\":239,\"lat\":\"41.688900\",\"subareas\":[],\"name\":\"cape cod\"},{\"name\":\"catskills\",\"subareas\":[],\"lat\":\"42.000000\",\"id\":451,\"hostname\":\"catskills\",\"country\":\"US\",\"abbr\":\"cat\",\"region\":\"NY\",\"lon\":\"-74.383301\",\"description\":\"catskills\"},{\"lat\":\"41.344101\",\"name\":\"eastern CT\",\"subareas\":[],\"hostname\":\"newlondon\",\"id\":281,\"country\":\"US\",\"abbr\":\"nlo\",\"region\":\"CT\",\"description\":\"eastern CT\",\"lon\":\"-72.103600\"},{\"subareas\":[],\"name\":\"glens falls\",\"lat\":\"43.309502\",\"id\":686,\"hostname\":\"glensfalls\",\"region\":\"NY\",\"abbr\":\"gfl\",\"country\":\"US\",\"description\":\"glens falls, NY\",\"lon\":\"-73.643997\"},{\"subareas\":[],\"name\":\"hartford\",\"lat\":\"41.763599\",\"id\":44,\"hostname\":\"hartford\",\"country\":\"US\",\"abbr\":\"htf\",\"region\":\"CT\",\"lon\":\"-72.685600\",\"description\":\"hartford, CT\"},{\"id\":249,\"hostname\":\"hudsonvalley\",\"subareas\":[],\"name\":\"hudson valley\",\"lat\":\"41.576698\",\"description\":\"hudson valley, NY\",\"lon\":\"-73.803398\",\"region\":\"NY\",\"abbr\":\"hud\",\"country\":\"US\"},{\"lat\":\"40.822102\",\"name\":\"long island\",\"subareas\":[],\"hostname\":\"longisland\",\"id\":250,\"country\":\"US\",\"abbr\":\"isp\",\"region\":\"NY\",\"description\":\"long island, NY\",\"lon\":\"-73.149696\"},{\"region\":\"ME\",\"abbr\":\"mne\",\"country\":\"US\",\"description\":\"maine\",\"lon\":\"-69.334602\",\"subareas\":[],\"name\":\"maine\",\"lat\":\"44.693199\",\"id\":169,\"hostname\":\"maine\"},{\"country\":\"US\",\"region\":\"NH\",\"abbr\":\"nhm\",\"description\":\"new hampshire\",\"lon\":\"-71.564201\",\"lat\":\"43.654099\",\"subareas\":[],\"name\":\"new hampshire\",\"hostname\":\"nh\",\"id\":198},{\"lat\":\"41.308102\",\"name\":\"new haven\",\"subareas\":[],\"hostname\":\"newhaven\",\"id\":168,\"country\":\"US\",\"region\":\"CT\",\"abbr\":\"hvn\",\"description\":\"new haven, CT\",\"lon\":\"-72.928596\"},{\"name\":\"northwest CT\",\"subareas\":[],\"lat\":\"41.914501\",\"id\":354,\"hostname\":\"nwct\",\"country\":\"US\",\"abbr\":\"nct\",\"region\":\"CT\",\"lon\":\"-73.276100\",\"description\":\"northwest CT\"},{\"description\":\"rhode island\",\"lon\":\"-71.409103\",\"country\":\"US\",\"region\":\"RI\",\"abbr\":\"prv\",\"hostname\":\"providence\",\"id\":38,\"lat\":\"41.830200\",\"name\":\"rhode island\",\"subareas\":[]},{\"lon\":\"-71.048599\",\"description\":\"south coast, MA\",\"region\":\"MA\",\"abbr\":\"sma\",\"country\":\"US\",\"id\":378,\"hostname\":\"southcoast\",\"name\":\"south coast\",\"subareas\":[],\"lat\":\"41.638500\"},{\"country\":\"US\",\"region\":\"VT\",\"abbr\":\"brl\",\"description\":\"vermont\",\"lon\":\"-73.193703\",\"subareas\":[],\"name\":\"vermont\",\"lat\":\"44.461201\",\"id\":93,\"hostname\":\"vermont\"},{\"name\":\"western mass\",\"subareas\":[],\"lat\":\"42.349998\",\"id\":173,\"hostname\":\"westernmass\",\"country\":\"US\",\"region\":\"MA\",\"abbr\":\"wma\",\"lon\":\"-73.000000\",\"description\":\"western massachusetts\"},{\"country\":\"US\",\"region\":\"MA\",\"abbr\":\"wor\",\"description\":\"worcester / central MA\",\"lon\":\"-71.802803\",\"subareas\":[],\"name\":\"worcester\",\"lat\":\"42.262501\",\"id\":240,\"hostname\":\"worcester\"}],\"subareaId\":0,\"searchLocation\":0}\n",
              "},\n",
              "             0\n",
              "         );\n",
              "     </script>\n",
              "<iframe id=\"cl-local-storage\" src=\"https://www.craigslist.org/static/www/localStorage-092e9f9e2f09450529e744902aa7cdb3a5cc868d.html\" style=\"display:none;\"></iframe>\n",
              "<script>\n",
              "        window.cl.specialCurtainMessages = {\n",
              "            unsupportedBrowser: [\n",
              "                \"We've detected you are using a browser that is missing critical features.\",\n",
              "                \"Please visit craigslist from a modern browser.\"\n",
              "            ],\n",
              "            unrecoverableError: [\n",
              "                \"There was an error loading the page.\"\n",
              "            ]\n",
              "        };\n",
              "    </script>\n",
              "<div class=\"cl-static-header\">\n",
              "<a href=\"/\">craigslist</a>\n",
              "<h1>Software/Qa/Dba/Etc Jobs in Boston</h1>\n",
              "</div>\n",
              "<ol class=\"cl-static-search-results\">\n",
              "<li class=\"cl-static-hub-links\">\n",
              "<div>see also</div>\n",
              "</li>\n",
              "<li class=\"cl-static-search-result\" title=\"Enroll in a Tech Academy Boot Camp to Secure Your Tech Career\">\n",
              "<a href=\"https://boston.craigslist.org/gbs/sof/d/boston-enroll-in-tech-academy-boot-camp/7764152421.html\">\n",
              "<div class=\"title\">Enroll in a Tech Academy Boot Camp to Secure Your Tech Career</div>\n",
              "<div class=\"details\">\n",
              "<div class=\"price\">$0</div>\n",
              "<div class=\"location\">\n",
              "                        boston/cambridge/brookline\n",
              "                    </div>\n",
              "</div>\n",
              "</a>\n",
              "</li>\n",
              "<li class=\"cl-static-search-result\" title=\"Software Development Project Coordinator - Asana Exp., Part-time\">\n",
              "<a href=\"https://boston.craigslist.org/bmw/sof/d/westborough-software-development/7764147855.html\">\n",
              "<div class=\"title\">Software Development Project Coordinator - Asana Exp., Part-time</div>\n",
              "<div class=\"details\">\n",
              "<div class=\"price\">$0</div>\n",
              "<div class=\"location\">\n",
              "                        Westborough, MA\n",
              "                    </div>\n",
              "</div>\n",
              "</a>\n",
              "</li>\n",
              "<li class=\"cl-static-search-result\" title=\"Experienced Web Designer\">\n",
              "<a href=\"https://boston.craigslist.org/nos/sof/d/wakefield-experienced-web-designer/7761903842.html\">\n",
              "<div class=\"title\">Experienced Web Designer</div>\n",
              "<div class=\"details\">\n",
              "<div class=\"price\">$0</div>\n",
              "<div class=\"location\">\n",
              "                        Wakefield\n",
              "                    </div>\n",
              "</div>\n",
              "</a>\n",
              "</li>\n",
              "<li class=\"cl-static-search-result\" title=\"Director, Software Engineering\">\n",
              "<a href=\"https://boston.craigslist.org/gbs/sof/d/boston-director-software-engineering/7758109999.html\">\n",
              "<div class=\"title\">Director, Software Engineering</div>\n",
              "<div class=\"details\">\n",
              "<div class=\"price\">$0</div>\n",
              "<div class=\"location\">\n",
              "                        Boston, MA\n",
              "                    </div>\n",
              "</div>\n",
              "</a>\n",
              "</li>\n",
              "</ol>\n",
              "</body>\n",
              "</html>"
            ]
          },
          "metadata": {},
          "execution_count": 14
        }
      ]
    },
    {
      "cell_type": "code",
      "source": [
        "tags = soup.find_all('a')\n",
        "for tag in tags:\n",
        "  print(tag)"
      ],
      "metadata": {
        "colab": {
          "base_uri": "https://localhost:8080/"
        },
        "id": "KAAQQDFVSk0z",
        "outputId": "e3b78932-b70a-4b04-c74e-bf80c70bdf17"
      },
      "execution_count": 25,
      "outputs": [
        {
          "output_type": "stream",
          "name": "stdout",
          "text": [
            "<a href=\"#\" id=\"cl-unrecoverable-hard-refresh\" onclick=\"location.reload(true);\">refresh the page.</a>\n",
            "<a href=\"/\">craigslist</a>\n",
            "<a href=\"https://boston.craigslist.org/gbs/sof/d/boston-enroll-in-tech-academy-boot-camp/7764152421.html\">\n",
            "<div class=\"title\">Enroll in a Tech Academy Boot Camp to Secure Your Tech Career</div>\n",
            "<div class=\"details\">\n",
            "<div class=\"price\">$0</div>\n",
            "<div class=\"location\">\n",
            "                        boston/cambridge/brookline\n",
            "                    </div>\n",
            "</div>\n",
            "</a>\n",
            "<a href=\"https://boston.craigslist.org/bmw/sof/d/westborough-software-development/7764147855.html\">\n",
            "<div class=\"title\">Software Development Project Coordinator - Asana Exp., Part-time</div>\n",
            "<div class=\"details\">\n",
            "<div class=\"price\">$0</div>\n",
            "<div class=\"location\">\n",
            "                        Westborough, MA\n",
            "                    </div>\n",
            "</div>\n",
            "</a>\n",
            "<a href=\"https://boston.craigslist.org/nos/sof/d/wakefield-experienced-web-designer/7761903842.html\">\n",
            "<div class=\"title\">Experienced Web Designer</div>\n",
            "<div class=\"details\">\n",
            "<div class=\"price\">$0</div>\n",
            "<div class=\"location\">\n",
            "                        Wakefield\n",
            "                    </div>\n",
            "</div>\n",
            "</a>\n",
            "<a href=\"https://boston.craigslist.org/gbs/sof/d/boston-director-software-engineering/7758109999.html\">\n",
            "<div class=\"title\">Director, Software Engineering</div>\n",
            "<div class=\"details\">\n",
            "<div class=\"price\">$0</div>\n",
            "<div class=\"location\">\n",
            "                        Boston, MA\n",
            "                    </div>\n",
            "</div>\n",
            "</a>\n"
          ]
        }
      ]
    },
    {
      "cell_type": "code",
      "source": [
        "tags"
      ],
      "metadata": {
        "colab": {
          "base_uri": "https://localhost:8080/"
        },
        "id": "aGTWT7OjS_T3",
        "outputId": "257198f0-379f-466d-8655-2c9448355b0d"
      },
      "execution_count": 17,
      "outputs": [
        {
          "output_type": "execute_result",
          "data": {
            "text/plain": [
              "[<a href=\"#\" id=\"cl-unrecoverable-hard-refresh\" onclick=\"location.reload(true);\">refresh the page.</a>,\n",
              " <a href=\"/\">craigslist</a>,\n",
              " <a href=\"https://boston.craigslist.org/gbs/sof/d/boston-enroll-in-tech-academy-boot-camp/7764152421.html\">\n",
              " <div class=\"title\">Enroll in a Tech Academy Boot Camp to Secure Your Tech Career</div>\n",
              " <div class=\"details\">\n",
              " <div class=\"price\">$0</div>\n",
              " <div class=\"location\">\n",
              "                         boston/cambridge/brookline\n",
              "                     </div>\n",
              " </div>\n",
              " </a>,\n",
              " <a href=\"https://boston.craigslist.org/bmw/sof/d/westborough-software-development/7764147855.html\">\n",
              " <div class=\"title\">Software Development Project Coordinator - Asana Exp., Part-time</div>\n",
              " <div class=\"details\">\n",
              " <div class=\"price\">$0</div>\n",
              " <div class=\"location\">\n",
              "                         Westborough, MA\n",
              "                     </div>\n",
              " </div>\n",
              " </a>,\n",
              " <a href=\"https://boston.craigslist.org/nos/sof/d/wakefield-experienced-web-designer/7761903842.html\">\n",
              " <div class=\"title\">Experienced Web Designer</div>\n",
              " <div class=\"details\">\n",
              " <div class=\"price\">$0</div>\n",
              " <div class=\"location\">\n",
              "                         Wakefield\n",
              "                     </div>\n",
              " </div>\n",
              " </a>,\n",
              " <a href=\"https://boston.craigslist.org/gbs/sof/d/boston-director-software-engineering/7758109999.html\">\n",
              " <div class=\"title\">Director, Software Engineering</div>\n",
              " <div class=\"details\">\n",
              " <div class=\"price\">$0</div>\n",
              " <div class=\"location\">\n",
              "                         Boston, MA\n",
              "                     </div>\n",
              " </div>\n",
              " </a>]"
            ]
          },
          "metadata": {},
          "execution_count": 17
        }
      ]
    },
    {
      "cell_type": "code",
      "source": [
        "tags"
      ],
      "metadata": {
        "colab": {
          "base_uri": "https://localhost:8080/"
        },
        "id": "BNuiN1v3TOZ3",
        "outputId": "1d9ad6b0-e723-4559-d8c5-02ca3ba10dc8"
      },
      "execution_count": 19,
      "outputs": [
        {
          "output_type": "execute_result",
          "data": {
            "text/plain": [
              "[<a href=\"#\" id=\"cl-unrecoverable-hard-refresh\" onclick=\"location.reload(true);\">refresh the page.</a>,\n",
              " <a href=\"/\">craigslist</a>,\n",
              " <a href=\"https://boston.craigslist.org/gbs/sof/d/boston-enroll-in-tech-academy-boot-camp/7764152421.html\">\n",
              " <div class=\"title\">Enroll in a Tech Academy Boot Camp to Secure Your Tech Career</div>\n",
              " <div class=\"details\">\n",
              " <div class=\"price\">$0</div>\n",
              " <div class=\"location\">\n",
              "                         boston/cambridge/brookline\n",
              "                     </div>\n",
              " </div>\n",
              " </a>,\n",
              " <a href=\"https://boston.craigslist.org/bmw/sof/d/westborough-software-development/7764147855.html\">\n",
              " <div class=\"title\">Software Development Project Coordinator - Asana Exp., Part-time</div>\n",
              " <div class=\"details\">\n",
              " <div class=\"price\">$0</div>\n",
              " <div class=\"location\">\n",
              "                         Westborough, MA\n",
              "                     </div>\n",
              " </div>\n",
              " </a>,\n",
              " <a href=\"https://boston.craigslist.org/nos/sof/d/wakefield-experienced-web-designer/7761903842.html\">\n",
              " <div class=\"title\">Experienced Web Designer</div>\n",
              " <div class=\"details\">\n",
              " <div class=\"price\">$0</div>\n",
              " <div class=\"location\">\n",
              "                         Wakefield\n",
              "                     </div>\n",
              " </div>\n",
              " </a>,\n",
              " <a href=\"https://boston.craigslist.org/gbs/sof/d/boston-director-software-engineering/7758109999.html\">\n",
              " <div class=\"title\">Director, Software Engineering</div>\n",
              " <div class=\"details\">\n",
              " <div class=\"price\">$0</div>\n",
              " <div class=\"location\">\n",
              "                         Boston, MA\n",
              "                     </div>\n",
              " </div>\n",
              " </a>]"
            ]
          },
          "metadata": {},
          "execution_count": 19
        }
      ]
    },
    {
      "cell_type": "code",
      "source": [
        "for tag in tags:\n",
        "  print(tag.get(\"href\"))"
      ],
      "metadata": {
        "colab": {
          "base_uri": "https://localhost:8080/"
        },
        "id": "r-Bb1OA8TVVv",
        "outputId": "40110dfa-7c28-46a7-f1bc-6b8c73b3795d"
      },
      "execution_count": 21,
      "outputs": [
        {
          "output_type": "stream",
          "name": "stdout",
          "text": [
            "#\n",
            "/\n",
            "https://boston.craigslist.org/gbs/sof/d/boston-enroll-in-tech-academy-boot-camp/7764152421.html\n",
            "https://boston.craigslist.org/bmw/sof/d/westborough-software-development/7764147855.html\n",
            "https://boston.craigslist.org/nos/sof/d/wakefield-experienced-web-designer/7761903842.html\n",
            "https://boston.craigslist.org/gbs/sof/d/boston-director-software-engineering/7758109999.html\n"
          ]
        }
      ]
    },
    {
      "cell_type": "code",
      "source": [
        "titles = soup.find_all(\"a\",{\"class\":\"title\"})"
      ],
      "metadata": {
        "id": "ZJb3nZJoTioI"
      },
      "execution_count": 36,
      "outputs": []
    },
    {
      "cell_type": "code",
      "source": [
        "for title in titles:\n",
        "  print(title.text)"
      ],
      "metadata": {
        "id": "xAJ8gMtiUrb4"
      },
      "execution_count": 37,
      "outputs": []
    },
    {
      "cell_type": "code",
      "source": [
        "titles"
      ],
      "metadata": {
        "colab": {
          "base_uri": "https://localhost:8080/"
        },
        "id": "XY6cBihrUume",
        "outputId": "aa1eedd9-9f19-4a3c-8300-d50b3c71f482"
      },
      "execution_count": 38,
      "outputs": [
        {
          "output_type": "execute_result",
          "data": {
            "text/plain": [
              "[]"
            ]
          },
          "metadata": {},
          "execution_count": 38
        }
      ]
    },
    {
      "cell_type": "code",
      "source": [
        "addresses = soup.find_all(\"span\",{\"class\":\"result-hood\"})\n",
        "for address in addresses:\n",
        "  print(address)"
      ],
      "metadata": {
        "id": "N0QbSwxAUyLg"
      },
      "execution_count": 40,
      "outputs": []
    },
    {
      "cell_type": "code",
      "source": [
        "addresses"
      ],
      "metadata": {
        "colab": {
          "base_uri": "https://localhost:8080/"
        },
        "id": "b4kBc3XwWIyA",
        "outputId": "b7d4e7ef-ccf7-4afa-90ac-5093d9a0a20c"
      },
      "execution_count": 41,
      "outputs": [
        {
          "output_type": "execute_result",
          "data": {
            "text/plain": [
              "[]"
            ]
          },
          "metadata": {},
          "execution_count": 41
        }
      ]
    },
    {
      "cell_type": "code",
      "source": [
        "while True:\n",
        "  jobs = soup.find_all('p',{\"class\":\"result-info\"})\n",
        "\n",
        "  for job in jobs:\n",
        "    title = job.find('a',{'class':'result-title'}).text\n",
        "\n",
        "    location_tag = job.find('span',{'class':'result-hood'})\n",
        "    location = location_tag.text if location_tag else \"N/A\"\n",
        "\n",
        "    date = job.find('time',{'class':'result-date'}).text\n",
        "\n",
        "    link = job.find('a',{'class':'result-title'}).get('href')\n",
        "\n",
        "    job_response = requests.get(link)\n",
        "    job_data = job_response.text\n",
        "    job_soup = BeautifulSoup(job_data, 'html.parser')\n",
        "    job_description = job_soup.find('section',{'id':'postingbody'}).text\n",
        "    job_attributes_tag = job_soup.find('p',{'class':'attrgroup'})\n",
        "    job_attributes = job_attributes_tag.text if job_attributes_tag else \"N/A\"\n",
        "\n",
        "    print(\"Job title: \", title, \"\\nLocation: \", location, \"\\nDate: \", date, \"\\nLink: \", link, \"\\n...\")\n",
        "\n",
        "  url_tag = soup.find('a',{'title':'next page'})\n",
        "  if url_tag.get('href'):\n",
        "    url = 'https://boston.craigslist.org' + url_tag.get('href')\n",
        "    print(url)\n",
        "  else:\n",
        "    break"
      ],
      "metadata": {
        "id": "JEsihGWuWOf3"
      },
      "execution_count": null,
      "outputs": []
    },
    {
      "cell_type": "code",
      "source": [],
      "metadata": {
        "id": "hSx-kKTKXDqB"
      },
      "execution_count": null,
      "outputs": []
    }
  ]
}